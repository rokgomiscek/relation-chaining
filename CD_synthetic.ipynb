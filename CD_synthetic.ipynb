{
 "cells": [
  {
   "cell_type": "code",
   "execution_count": 1,
   "metadata": {
    "collapsed": true
   },
   "outputs": [],
   "source": [
    "import pickle\n",
    "\n",
    "with open('synth.pickle', 'rb') as f:\n",
    "    r = pickle.load(f)"
   ]
  },
  {
   "cell_type": "code",
   "execution_count": 2,
   "metadata": {},
   "outputs": [
    {
     "data": {
      "image/png": "[encoded data removed]",
      "text/plain": [
       "<matplotlib.figure.Figure at 0x1169d9d9390>"
      ]
     },
     "metadata": {},
     "output_type": "display_data"
    }
   ],
   "source": [
    "import Orange\n",
    "import numpy as np\n",
    "%matplotlib inline\n",
    "import matplotlib.pyplot as plt\n",
    "from scipy.stats import rankdata\n",
    "names = [\"Baseline\",\n",
    "         \"MF_FV\",\"RF_FV\",\"MF_PF\",\"RF_PF\",\n",
    "         \"MF_Par\",\"RF_Par\",\"MF_Pat\",\"RF_Pat\"]\n",
    "ranks = np.zeros((len(names), len(r)))\n",
    "for i, res in enumerate(r):\n",
    "    pred = []\n",
    "    for name in names:\n",
    "        pred.append(res[name])\n",
    "    ranks[:,i] = (len(names)+1)-rankdata(pred, method=\"min\")\n",
    "avranks = np.mean(ranks, axis=1)\n",
    "\n",
    "cd = Orange.evaluation.compute_CD(avranks, len(r), alpha='0.1')\n",
    "Orange.evaluation.graph_ranks(avranks, names, cd=cd, width=6, textspace=1.5)\n",
    "plt.show()"
   ]
  }
 ],
 "metadata": {
  "kernelspec": {
   "display_name": "Python 3",
   "language": "python",
   "name": "python3"
  },
  "language_info": {
   "codemirror_mode": {
    "name": "ipython",
    "version": 3
   },
   "file_extension": ".py",
   "mimetype": "text/x-python",
   "name": "python",
   "nbconvert_exporter": "python",
   "pygments_lexer": "ipython3",
   "version": "3.6.3"
  },
  "nbTranslate": {
   "displayLangs": [
    "en",
    "sl"
   ],
   "hotkey": "alt-t",
   "langInMainMenu": true,
   "sourceLang": "sl",
   "targetLang": "en",
   "useGoogleTranslate": true
  }
 },
 "nbformat": 4,
 "nbformat_minor": 2
}

{
 "cells": [
  {
   "cell_type": "code",
   "execution_count": null,
   "metadata": {
    "collapsed": true
   },
   "outputs": [],
   "source": [
    "%run Functions.ipynb\n",
    "%matplotlib inline\n",
    "import numpy as np\n",
    "\n",
    "np.random.seed(42)\n",
    "\n",
    "result = {}"
   ]
  },
  {
   "cell_type": "markdown",
   "metadata": {},
   "source": [
    "# Loading and preparing the data"
   ]
  },
  {
   "cell_type": "markdown",
   "metadata": {},
   "source": [
    "## Preparing the relations"
   ]
  },
  {
   "cell_type": "code",
   "execution_count": null,
   "metadata": {
    "collapsed": true,
    "run_control": {
     "marked": false
    }
   },
   "outputs": [],
   "source": [
    "unique_users, unique_tags, unique_items, pairs, train_set, test_set = synthetic_data(intra, inter)\n",
    "\n",
    "user_item = np.zeros((len(unique_users), len(unique_items)))\n",
    "user_tag = np.zeros((len(unique_users), len(unique_tags)))\n",
    "item_tag = np.zeros((len(unique_items), len(unique_tags)))\n",
    "\n",
    "i = 0\n",
    "for rating in train_set:\n",
    "    user_item[unique_users.index(rating[0]), unique_items.index(rating[1])] = 1\n",
    "    for entry in pairs[(rating[0], rating[1])]:\n",
    "        user_tag[unique_users.index(rating[0]), unique_tags.index(entry)] += 1\n",
    "        item_tag[unique_items.index(rating[1]), unique_tags.index(entry)] += 1"
   ]
  },
  {
   "cell_type": "markdown",
   "metadata": {},
   "source": [
    "# Recommendation"
   ]
  },
  {
   "cell_type": "code",
   "execution_count": null,
   "metadata": {
    "collapsed": true
   },
   "outputs": [],
   "source": [
    "#random matrix used as baseline\n",
    "sizeU, sizeI = user_item.shape\n",
    "random_matrix = np.random.rand(sizeU, sizeI)"
   ]
  },
  {
   "cell_type": "code",
   "execution_count": null,
   "metadata": {
    "collapsed": true
   },
   "outputs": [],
   "source": [
    "predicted = user_tag.dot(item_tag.T)\n",
    "paths = ((user_tag > 0)*1.).dot(((item_tag.T>0)*1.))\n",
    "pred_normalized = normalize(predicted, paths)\n",
    "\n",
    "r_base = recall(evaluate(random_matrix, test_set), 20)\n",
    "result[\"Baseline\"] = r_base\n",
    "print(\"Baseline: \", r_base)\n",
    "\n",
    "r_multi = recall(evaluate(predicted*1., test_set), 20)\n",
    "result[\"Multiplication\"] = r_multi\n",
    "print(\"Multiplication: \", r_multi)\n",
    "\n",
    "r_paths = recall(evaluate(paths*1., test_set), 20)\n",
    "result[\"Paths\"] = r_paths\n",
    "print(\"Paths: \", r_paths)\n",
    "\n",
    "r_norm = recall(evaluate(pred_normalized, test_set), 20)\n",
    "result[\"Normalized\"] = r_norm\n",
    "print(\"Normalized: \", r_norm)"
   ]
  },
  {
   "cell_type": "markdown",
   "metadata": {},
   "source": [
    "## Pareto\n",
    "We can use both predicted value and number of paths together to get the pareto frontier."
   ]
  },
  {
   "cell_type": "code",
   "execution_count": null,
   "metadata": {
    "collapsed": true,
    "scrolled": true
   },
   "outputs": [],
   "source": [
    "r_pareto = recall(evaluate(predicted, test_set, paths), 20)\n",
    "result[\"Pareto\"] = r_pareto\n",
    "print(\"Pareto: \", r_pareto)"
   ]
  },
  {
   "cell_type": "markdown",
   "metadata": {},
   "source": [
    "# DFMF\n",
    "Using DFMF we can fill the rest of the matrices and use the new data to make predictions."
   ]
  },
  {
   "cell_type": "markdown",
   "metadata": {},
   "source": [
    "We can use factor matrices to approximate the original data."
   ]
  },
  {
   "cell_type": "code",
   "execution_count": null,
   "metadata": {
    "collapsed": true
   },
   "outputs": [],
   "source": [
    "G, S = dfmf(5, user_item, user_tag, item_tag)\n",
    "G_users, G_items, G_tags = G\n",
    "S_user_tag, S_tag_item, S_user_item = S\n",
    "\n",
    "pred_dfmf = G_users.dot(S_user_item.dot(G_items.T))\n",
    "\n",
    "r_dfmf = recall(evaluate(pred_dfmf, test_set), 20)\n",
    "result[\"GSG\"] = r_dfmf\n",
    "print(\"GSG: \", r_dfmf)"
   ]
  },
  {
   "cell_type": "code",
   "execution_count": null,
   "metadata": {
    "collapsed": true
   },
   "outputs": [],
   "source": [
    "chain_dfmf = G_users.dot(S_user_tag.dot(S_tag_item.dot(G_items.T)))\n",
    "r_gssg = recall(evaluate(chain_dfmf, test_set), 20)\n",
    "result[\"GSSG\"] = r_gssg\n",
    "print(\"GSSG: \", r_gssg)\n",
    "\n",
    "chain_dfmf = G_users.dot(S_user_tag.dot(G_tags.T.dot(G_tags.dot(S_tag_item.dot(G_items.T)))))\n",
    "r_gsg = recall(evaluate(chain_dfmf, test_set), 20)\n",
    "result[\"GSGGSG\"] = r_gsg\n",
    "print(\"GSGGSG: \", r_gsg)"
   ]
  },
  {
   "cell_type": "markdown",
   "metadata": {},
   "source": [
    "## Paths with threshold\n",
    "\n",
    "Since DFMF returns full matrices, we can not just count the number of connections, since all objects are connected. Instead we decide to filter these connections as more or less relevant / strong. We will try this first by setting a global filter and then by setting local filters for each element."
   ]
  },
  {
   "cell_type": "code",
   "execution_count": null,
   "metadata": {
    "collapsed": true
   },
   "outputs": [],
   "source": [
    "b = G_users.dot(S_user_tag.dot(G_tags.T))\n",
    "d = G_tags.dot(S_tag_item.dot(G_items.T))"
   ]
  },
  {
   "cell_type": "code",
   "execution_count": null,
   "metadata": {
    "collapsed": true
   },
   "outputs": [],
   "source": [
    "(e,f,g,h) = matrixFilter(b, d)\n",
    "print(\"Matrix filter\")"
   ]
  },
  {
   "cell_type": "code",
   "execution_count": null,
   "metadata": {
    "collapsed": true
   },
   "outputs": [],
   "source": [
    "result[\"MF_Pat\"] = e \n",
    "result[\"MF_FV\"] = f\n",
    "result[\"MF_Par\"] = g\n",
    "result[\"MF_PF\"] = h"
   ]
  },
  {
   "cell_type": "code",
   "execution_count": null,
   "metadata": {
    "collapsed": true
   },
   "outputs": [],
   "source": [
    "(e,f,g,h) = rowFilter(b, d)\n",
    "print(\"Row filter\")"
   ]
  },
  {
   "cell_type": "code",
   "execution_count": null,
   "metadata": {
    "collapsed": true
   },
   "outputs": [],
   "source": [
    "result[\"RF_Pat\"] = e\n",
    "result[\"RF_FV\"] = f\n",
    "result[\"RF_Par\"] = g\n",
    "result[\"RF_PF\"] = h "
   ]
  }
 ],
 "metadata": {
  "kernelspec": {
   "display_name": "Python 3",
   "language": "python",
   "name": "python3"
  },
  "language_info": {
   "codemirror_mode": {
    "name": "ipython",
    "version": 3
   },
   "file_extension": ".py",
   "mimetype": "text/x-python",
   "name": "python",
   "nbconvert_exporter": "python",
   "pygments_lexer": "ipython3",
   "version": "3.6.3"
  },
  "nbTranslate": {
   "displayLangs": [
    "en",
    "sl"
   ],
   "hotkey": "alt-t",
   "langInMainMenu": true,
   "sourceLang": "sl",
   "targetLang": "en",
   "useGoogleTranslate": true
  }
 },
 "nbformat": 4,
 "nbformat_minor": 2
}

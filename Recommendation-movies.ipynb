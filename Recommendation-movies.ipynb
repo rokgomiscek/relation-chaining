{
 "cells": [
  {
   "cell_type": "code",
   "execution_count": 1,
   "metadata": {
    "collapsed": true
   },
   "outputs": [],
   "source": [
    "%run Functions.ipynb\n",
    "%matplotlib inline\n",
    "import numpy as np"
   ]
  },
  {
   "cell_type": "markdown",
   "metadata": {},
   "source": [
    "# Loading and preparing the data"
   ]
  },
  {
   "cell_type": "markdown",
   "metadata": {},
   "source": [
    "## Preparing the relations"
   ]
  },
  {
   "cell_type": "code",
   "execution_count": 2,
   "metadata": {
    "run_control": {
     "marked": false
    }
   },
   "outputs": [
    {
     "name": "stdout",
     "output_type": "stream",
     "text": [
      "The original data consists of 47957 tuples (userID, bookmarkID, tagID).\n",
      "2113 users\n",
      "5908 items\n",
      "9079 tags\n"
     ]
    }
   ],
   "source": [
    "data = np.loadtxt('data/user_taggedmovies-timestamps.dat',skiprows=1)#, dtype=int)\n",
    "print(\"The original data consists of %d tuples (userID, itemID, tagID).\" % data.shape[0])\n",
    "unique = np.unique(data[:,0])\n",
    "print(\"%d users\" % len(unique))\n",
    "unique = np.unique(data[:,1])\n",
    "print(\"%d items\" % len(unique))\n",
    "unique = np.unique(data[:,2])\n",
    "print(\"%d tags\" % len(unique))"
   ]
  },
  {
   "cell_type": "markdown",
   "metadata": {},
   "source": [
    "## Sampling\n",
    "If the data set is too big, we can sample the data by selecting only the $size$ most used items and tags."
   ]
  },
  {
   "cell_type": "code",
   "execution_count": 3,
   "metadata": {},
   "outputs": [
    {
     "name": "stdout",
     "output_type": "stream",
     "text": [
      "By choosing top 102 most used items we obtain 7772 samples.\n",
      "By choosing top 108 most used tags we obtain 3133 samples.\n"
     ]
    }
   ],
   "source": [
    "size = 100\n",
    "\n",
    "# Count number of occurencies, set limit \n",
    "unique, counts = np.unique(data[:,1], return_counts=True)\n",
    "lim = sorted(counts, reverse=True)[size]\n",
    "unique_items = unique[counts>=lim]\n",
    "data_smpl = data[np.isin(data[:,1], unique_items)]\n",
    "print(\"By choosing top %d most used items we obtain %d samples.\" % (len(unique_items),data_smpl.shape[0]))\n",
    "\n",
    "unique, counts = np.unique(data_smpl[:,2], return_counts=True)\n",
    "lim = sorted(counts, reverse=True)[size]\n",
    "unique_tags = unique[counts>=lim]\n",
    "data_smpl = data_smpl[np.isin(data_smpl[:,2], unique_tags)]\n",
    "print(\"By choosing top %d most used tags we obtain %d samples.\" % (len(unique_tags),data_smpl.shape[0]))\n",
    "data = data_smpl"
   ]
  },
  {
   "cell_type": "markdown",
   "metadata": {},
   "source": [
    "## Preparing the relations"
   ]
  },
  {
   "cell_type": "code",
   "execution_count": 4,
   "metadata": {
    "collapsed": true
   },
   "outputs": [],
   "source": [
    "# For each pair of userID, itemID list all the tagIDs used, also save timestamp\n",
    "pairs = defaultdict(list)\n",
    "for entry in data:\n",
    "    pair = entry[0], entry[1], entry[3]\n",
    "    pairs[pair].append(entry[2])\n",
    "    \n",
    "entries = list(pairs.keys())\n",
    "\n",
    "# Sort by timestamp\n",
    "a = np.array(entries)\n",
    "entries = a[a[:,-1].argsort()]"
   ]
  },
  {
   "cell_type": "markdown",
   "metadata": {},
   "source": [
    "Split entries into training (75%) and test (25%) sets."
   ]
  },
  {
   "cell_type": "code",
   "execution_count": 5,
   "metadata": {},
   "outputs": [
    {
     "name": "stdout",
     "output_type": "stream",
     "text": [
      "2249\n",
      "750\n"
     ]
    }
   ],
   "source": [
    "train_set = entries[:int(len(entries) * 0.75)]\n",
    "test_set = entries[int(len(entries) * 0.75):]\n",
    "print(len(train_set))\n",
    "print(len(test_set))"
   ]
  },
  {
   "cell_type": "markdown",
   "metadata": {},
   "source": [
    "We present the data as three relations: $R_{user, item}$, $R_{user, tag}$, $R_{item, tag}$"
   ]
  },
  {
   "cell_type": "code",
   "execution_count": 6,
   "metadata": {},
   "outputs": [
    {
     "name": "stdout",
     "output_type": "stream",
     "text": [
      "444 users\n",
      "102 items\n",
      "108 tags\n"
     ]
    }
   ],
   "source": [
    "unique_users = list(np.unique(data[:,0]))\n",
    "unique_items = list(np.unique(data[:,1]))\n",
    "unique_tags = list(np.unique(data[:,2]))\n",
    "\n",
    "print(\"%d users\" % len(unique_users))\n",
    "print(\"%d items\" % len(unique_items))\n",
    "print(\"%d tags\" % len(unique_tags))\n",
    "\n",
    "user_item = np.zeros((len(unique_users), len(unique_items)))\n",
    "user_tag = np.zeros((len(unique_users), len(unique_tags)))\n",
    "item_tag = np.zeros((len(unique_items), len(unique_tags)))\n",
    "\n",
    "i = 0\n",
    "for a in train_set:\n",
    "    user_item[unique_users.index(a[0]), unique_items.index(a[1])] = 1\n",
    "    for entry in pairs[(a[0], a[1], a[2])]:\n",
    "        user_tag[unique_users.index(a[0]), unique_tags.index(entry)] += 1\n",
    "        item_tag[unique_items.index(a[1]), unique_tags.index(entry)] += 1"
   ]
  },
  {
   "cell_type": "markdown",
   "metadata": {},
   "source": [
    "Sparseness of matrices"
   ]
  },
  {
   "cell_type": "code",
   "execution_count": 7,
   "metadata": {},
   "outputs": [
    {
     "name": "stdout",
     "output_type": "stream",
     "text": [
      "0.0372284048755\n",
      "0.0221054387721\n",
      "0.101307189542\n"
     ]
    }
   ],
   "source": [
    "dim = user_item.shape\n",
    "print ((user_item > 0).sum() / user_item.size)\n",
    "\n",
    "dim = user_tag.shape\n",
    "print ((user_tag > 0).sum() / user_tag.size)\n",
    "\n",
    "dim = item_tag.shape\n",
    "print ((item_tag > 0).sum() / item_tag.size)"
   ]
  },
  {
   "cell_type": "markdown",
   "metadata": {},
   "source": [
    "# Recommendation"
   ]
  },
  {
   "cell_type": "code",
   "execution_count": 8,
   "metadata": {
    "collapsed": true
   },
   "outputs": [],
   "source": [
    "#random matrix used as baseline\n",
    "sizeU, sizeI = user_item.shape\n",
    "random_matrix = np.random.rand(sizeU, sizeI)"
   ]
  },
  {
   "cell_type": "code",
   "execution_count": 9,
   "metadata": {},
   "outputs": [
    {
     "name": "stdout",
     "output_type": "stream",
     "text": [
      "Baseline:  0.193333333333\n",
      "Multiplication:  0.048\n",
      "Paths:  0.0466666666667\n",
      "Normalized:  0.0413333333333\n"
     ]
    }
   ],
   "source": [
    "predicted = user_tag.dot(item_tag.T)\n",
    "paths = ((user_tag > 0)*1).dot(((item_tag.T>0)*1))\n",
    "pred_normalized = normalize(predicted, paths)\n",
    "\n",
    "print(\"Baseline: \", recall(evaluate(random_matrix, test_set), 20))\n",
    "\n",
    "print(\"Multiplication: \", recall(evaluate(predicted*1., test_set), 20))\n",
    "print(\"Paths: \", recall(evaluate(paths*1., test_set), 20))\n",
    "print(\"Normalized: \", recall(evaluate(pred_normalized, test_set), 20))"
   ]
  },
  {
   "cell_type": "markdown",
   "metadata": {},
   "source": [
    "## Pareto\n",
    "We can use both predicted value and number of paths together to get the pareto frontier."
   ]
  },
  {
   "cell_type": "code",
   "execution_count": 10,
   "metadata": {
    "scrolled": true
   },
   "outputs": [
    {
     "name": "stdout",
     "output_type": "stream",
     "text": [
      "Pareto:  0.048\n"
     ]
    }
   ],
   "source": [
    "print(\"Pareto: \", recall(evaluate(predicted, test_set, paths), 20))"
   ]
  },
  {
   "cell_type": "markdown",
   "metadata": {},
   "source": [
    "# DFMF\n",
    "Using DFMF we can fill the rest of the matrices and use the new data to make predictions."
   ]
  },
  {
   "cell_type": "code",
   "execution_count": 11,
   "metadata": {},
   "outputs": [
    {
     "data": {
      "image/png": "[encoded data removed]",
      "text/plain": [
       "<matplotlib.figure.Figure at 0x235e3279cc0>"
      ]
     },
     "metadata": {},
     "output_type": "display_data"
    }
   ],
   "source": [
    "errors = []\n",
    "n = 1\n",
    "for i in np.arange(2, 11, 1):\n",
    "    run_sum = 0\n",
    "    for _ in range(n):\n",
    "        G, S = dfmf(i, user_item, user_tag, item_tag)\n",
    "        G_users, G_items, G_tags = G\n",
    "        S_user_tag, S_tag_item, S_user_item = S\n",
    "\n",
    "        err1 = np.ma.masked_equal(user_item, 0) - G_users.dot(S_user_item.dot(G_items.T))\n",
    "        err1 = np.sqrt(err1**2).sum()\n",
    "        err2 = np.ma.masked_equal(user_tag, 0) - G_users.dot(S_user_tag.dot(G_tags.T))\n",
    "        err2 = np.sqrt(err2**2).sum()\n",
    "        err3 = np.ma.masked_equal(item_tag.T, 0) - G_tags.dot(S_tag_item.dot(G_items.T))\n",
    "        err3 = np.sqrt(err3**2).sum()\n",
    "        run_sum += err1 + err2 + err3\n",
    "    errors.append(run_sum/n)\n",
    "\n",
    "ticks = np.arange(2, 11, 1)\n",
    "locs = np.arange(0, 10)\n",
    "plt.plot(errors)\n",
    "plt.xticks(locs)\n",
    "plt.gca().set_xticklabels(ticks);"
   ]
  },
  {
   "cell_type": "markdown",
   "metadata": {},
   "source": [
    "We can use factor matrices to approximate the original data."
   ]
  },
  {
   "cell_type": "code",
   "execution_count": 12,
   "metadata": {},
   "outputs": [
    {
     "name": "stdout",
     "output_type": "stream",
     "text": [
      "Baseline:  0.193333333333\n",
      "DFMF:  0.277333333333\n"
     ]
    }
   ],
   "source": [
    "G, S = dfmf(4, user_item, user_tag, item_tag)\n",
    "G_users, G_items, G_tags = G\n",
    "S_user_tag, S_tag_item, S_user_item = S\n",
    "\n",
    "pred_dfmf = G_users.dot(S_user_item.dot(G_items.T))\n",
    "\n",
    "print(\"Baseline: \", recall(evaluate(random_matrix, test_set), 20))\n",
    "print(\"DFMF: \", recall(evaluate(pred_dfmf, test_set), 20))"
   ]
  },
  {
   "cell_type": "markdown",
   "metadata": {},
   "source": [
    "Since we only know where users added (liked), but not \"not added\" (disliked), DFMF takes a masked matrix with only 1s visible and tries to fill the new matrix with values close to 1. We can see this in the histogram below. It doesn't help us with recommendation."
   ]
  },
  {
   "cell_type": "code",
   "execution_count": 13,
   "metadata": {
    "scrolled": true
   },
   "outputs": [
    {
     "data": {
      "image/png": "[encoded data removed]",
      "text/plain": [
       "<matplotlib.figure.Figure at 0x235e4bb6fd0>"
      ]
     },
     "metadata": {},
     "output_type": "display_data"
    }
   ],
   "source": [
    "plt.hist(pred_dfmf.flatten(), bins=50);"
   ]
  },
  {
   "cell_type": "markdown",
   "metadata": {},
   "source": [
    "But we can also approximate the other two matrices and chain them to obtain new predictions."
   ]
  },
  {
   "cell_type": "code",
   "execution_count": 14,
   "metadata": {},
   "outputs": [
    {
     "name": "stdout",
     "output_type": "stream",
     "text": [
      "Chain GSSG:  0.110666666667\n",
      "Chain:  0.252\n"
     ]
    },
    {
     "data": {
      "image/png": "[encoded data removed]",
      "text/plain": [
       "<matplotlib.figure.Figure at 0x235e2b91cf8>"
      ]
     },
     "metadata": {},
     "output_type": "display_data"
    }
   ],
   "source": [
    "chain_dfmf = G_users.dot(S_user_tag.dot(S_tag_item.dot(G_items.T)))\n",
    "print(\"Chain GSSG: \", recall(evaluate(chain_dfmf, test_set), 20))\n",
    "\n",
    "chain_dfmf = G_users.dot(S_user_tag.dot(G_tags.T.dot(G_tags.dot(S_tag_item.dot(G_items.T)))))\n",
    "plt.hist(chain_dfmf.flatten(), bins=100);\n",
    "print(\"Chain: \", recall(evaluate(chain_dfmf, test_set), 20))"
   ]
  },
  {
   "cell_type": "markdown",
   "metadata": {},
   "source": [
    "We can now see that the values of the predictions are more diverse."
   ]
  },
  {
   "cell_type": "markdown",
   "metadata": {},
   "source": [
    "## Paths with threshold\n",
    "\n",
    "Since DFMF returns full matrices, we can not just count the number of connections, since all objects are connected. Instead we decide to filter these connections as more or less relevant / strong. We will try this first by setting a global filter and then by setting local filters for each element."
   ]
  },
  {
   "cell_type": "code",
   "execution_count": 15,
   "metadata": {
    "collapsed": true
   },
   "outputs": [],
   "source": [
    "b = G_users.dot(S_user_tag.dot(G_tags.T))\n",
    "d = G_tags.dot(S_tag_item.dot(G_items.T))"
   ]
  },
  {
   "cell_type": "code",
   "execution_count": 16,
   "metadata": {},
   "outputs": [
    {
     "name": "stdout",
     "output_type": "stream",
     "text": [
      "Maximum paths:  0.309333333333 , with filters:  [5, 90]\n",
      "Maximum filtered values:  0.309333333333 , with filters:  [5, 90]\n",
      "Maximum pareto:  0.325333333333 , with filters:  [5, 90]\n",
      "Maximum pareto on filtered:  0.297333333333 , with filters:  [5, 90]\n"
     ]
    },
    {
     "data": {
      "text/plain": [
       "(0.30933333333333335,\n",
       " 0.30933333333333335,\n",
       " 0.32533333333333331,\n",
       " 0.29733333333333334)"
      ]
     },
     "execution_count": 16,
     "metadata": {},
     "output_type": "execute_result"
    },
    {
     "data": {
      "image/png": "[encoded data removed]",
      "text/plain": [
       "<matplotlib.figure.Figure at 0x235e58559b0>"
      ]
     },
     "metadata": {},
     "output_type": "display_data"
    }
   ],
   "source": [
    "matrixFilter(b, d)"
   ]
  },
  {
   "cell_type": "code",
   "execution_count": 17,
   "metadata": {},
   "outputs": [
    {
     "name": "stdout",
     "output_type": "stream",
     "text": [
      "Maximum paths:  0.162666666667 , with filters:  [55, 70]\n",
      "Maximum filtered values:  0.334666666667 , with filters:  [10, 90]\n",
      "Maximum pareto:  0.281333333333 , with filters:  [45, 5]\n",
      "Maximum pareto on filtered:  0.322666666667 , with filters:  [15, 90]\n"
     ]
    },
    {
     "data": {
      "text/plain": [
       "(0.16266666666666665,\n",
       " 0.33466666666666667,\n",
       " 0.28133333333333332,\n",
       " 0.32266666666666666)"
      ]
     },
     "execution_count": 17,
     "metadata": {},
     "output_type": "execute_result"
    },
    {
     "data": {
      "image/png": "[encoded data removed]",
      "text/plain": [
       "<matplotlib.figure.Figure at 0x235e6e16978>"
      ]
     },
     "metadata": {},
     "output_type": "display_data"
    }
   ],
   "source": [
    "rowFilter(b, d)"
   ]
  },
  {
   "cell_type": "markdown",
   "metadata": {},
   "source": [
    "## Cross-validation"
   ]
  },
  {
   "cell_type": "code",
   "execution_count": 18,
   "metadata": {
    "collapsed": true
   },
   "outputs": [],
   "source": [
    "from sklearn.model_selection import KFold\n",
    "\n",
    "result = defaultdict(list)\n",
    "result2 = defaultdict(list)\n",
    "\n",
    "kf = KFold(n_splits=4)\n",
    "for train, test in kf.split(train_set):\n",
    "    X_train, X_test = np.array(train_set)[train], np.array(train_set)[test]\n",
    "\n",
    "    user_item = np.zeros((len(unique_users), len(unique_items)))\n",
    "    user_tag = np.zeros((len(unique_users), len(unique_tags)))\n",
    "    item_tag = np.zeros((len(unique_items), len(unique_tags)))\n",
    "\n",
    "    i = 0\n",
    "    for a in X_train:\n",
    "        user_item[unique_users.index(a[0]), unique_items.index(a[1])] = 1\n",
    "        for entry in pairs[(a[0], a[1], a[2])]:\n",
    "            user_tag[unique_users.index(a[0]), unique_tags.index(entry)] += 1\n",
    "            item_tag[unique_items.index(a[1]), unique_tags.index(entry)] += 1            \n",
    "            \n",
    "    G, S = dfmf(4, user_item, user_tag, item_tag)\n",
    "    G_users, G_items, G_tags = G\n",
    "    S_user_tag, S_tag_item, S_user_item = S\n",
    "    \n",
    "    b = G_users.dot(S_user_tag.dot(G_tags.T))\n",
    "    d = G_tags.dot(S_tag_item.dot(G_items.T))\n",
    "\n",
    "    for m in range(5,101,5):\n",
    "        for n in range(5,101,5):\n",
    "            b_u_p = importantCells(b, m)\n",
    "\n",
    "            d_u_p = importantCells(d, n)\n",
    "\n",
    "            r = b_u_p.dot(d_u_p)\n",
    "            res = recall(evaluate(r, X_test), 20)\n",
    "            result[m,n].append(res)\n",
    "            \n",
    "    for m in range(5,101,5):\n",
    "        for n in range(5,101,5):        \n",
    "            b_u_p = importantCells2(b, m)\n",
    "            d_u_p = importantCells2(d, n, axis=0)\n",
    "\n",
    "            r = b_u_p.dot(d_u_p)\n",
    "            res = recall(evaluate(r, X_test), 20)\n",
    "            result2[m,n].append(res)"
   ]
  },
  {
   "cell_type": "code",
   "execution_count": 19,
   "metadata": {},
   "outputs": [
    {
     "name": "stdout",
     "output_type": "stream",
     "text": [
      "0.277020663325 (5, 80)\n"
     ]
    }
   ],
   "source": [
    "maximum = 0\n",
    "para = [0,0]\n",
    "\n",
    "for key in result:\n",
    "    score = np.mean(result[key])\n",
    "    if score > maximum:\n",
    "        maximum = score\n",
    "        para = key\n",
    "print(maximum, para)"
   ]
  },
  {
   "cell_type": "code",
   "execution_count": 20,
   "metadata": {},
   "outputs": [
    {
     "name": "stdout",
     "output_type": "stream",
     "text": [
      "0.120049872632 (50, 65)\n"
     ]
    }
   ],
   "source": [
    "maximum = 0\n",
    "para = [0,0]\n",
    "\n",
    "for key in result2:\n",
    "    score = np.mean(result2[key])\n",
    "    if score > maximum:\n",
    "        maximum = score\n",
    "        para = key\n",
    "print(maximum, para)"
   ]
  },
  {
   "cell_type": "markdown",
   "metadata": {},
   "source": [
    "# Chain matrix factorization"
   ]
  },
  {
   "cell_type": "markdown",
   "metadata": {
    "collapsed": true,
    "hide_input": false,
    "run_control": {
     "marked": false
    }
   },
   "source": [
    "By using matrix factorization it is possible to predict the value of elements missing in the data.\n",
    "We can speed up calculations by choosing an appropraite multiplication order."
   ]
  },
  {
   "cell_type": "code",
   "execution_count": 21,
   "metadata": {
    "collapsed": true,
    "hide_input": false,
    "run_control": {
     "marked": true
    }
   },
   "outputs": [],
   "source": [
    "users = len(unique_users)\n",
    "items = len(unique_items)\n",
    "tags = len(unique_tags)\n",
    "\n",
    "R = np.vstack((\n",
    "    np.hstack((np.zeros((users, users)), user_item, user_tag)),\n",
    "    np.hstack((np.zeros((items, users)), np.zeros((items, items)), item_tag)),\n",
    "    np.hstack((np.zeros((tags, users)), np.zeros((tags, items)), np.zeros((tags, tags)))),\n",
    "    ))"
   ]
  },
  {
   "cell_type": "markdown",
   "metadata": {},
   "source": [
    "Obtaining $S$ and $G$ from the model"
   ]
  },
  {
   "cell_type": "code",
   "execution_count": 24,
   "metadata": {
    "collapsed": true,
    "run_control": {
     "marked": true
    }
   },
   "outputs": [],
   "source": [
    "users, items = S_user_item.shape\n",
    "tags = S_tag_item.shape[0]\n",
    "\n",
    "S = np.vstack((\n",
    "    np.hstack((np.zeros((users, users)), S_user_item, S_user_tag)),\n",
    "    np.hstack((np.zeros((items, users)), np.zeros((items, items)), S_tag_item.T)),\n",
    "    np.hstack((np.zeros((tags, users)), np.zeros((tags, items)), np.zeros((tags, tags)))),\n",
    "    ))\n",
    "\n",
    "G = scipy.linalg.block_diag(G_users, G_items, G_tags)"
   ]
  },
  {
   "cell_type": "markdown",
   "metadata": {
    "hide_input": false,
    "run_control": {
     "marked": false
    }
   },
   "source": [
    "We measure the average time of various chaining methods and how they compare to $R^2$."
   ]
  },
  {
   "cell_type": "code",
   "execution_count": 25,
   "metadata": {
    "hide_input": false,
    "run_control": {
     "marked": true
    },
    "scrolled": true
   },
   "outputs": [
    {
     "name": "stdout",
     "output_type": "stream",
     "text": [
      "R²: \t0.0123\n",
      "GS²G: \t0.0075\n",
      "GSGGSG: 0.0156\n",
      "(GSG)²: 0.0186\n",
      "GSKG: \t0.0070\n",
      "Speedup:\n",
      "R²: \t1.0000\n",
      "GS²G: \t1.6375\n",
      "GSGGSG: 0.7916\n",
      "(GSG)²: 0.6653\n",
      "GSKG: \t1.7580\n"
     ]
    }
   ],
   "source": [
    "import time\n",
    "time_R2 = []\n",
    "time_GS2G = []\n",
    "time_K = []\n",
    "time_GSG2 = []\n",
    "time_GSGGSG = []\n",
    "\n",
    "for _ in range(100):\n",
    "    start = time.time()\n",
    "    R.dot(R)\n",
    "    end = time.time()\n",
    "    time_R2.append(end-start)    \n",
    "\n",
    "    start = time.time()\n",
    "    G.dot(S).dot(S).dot(G.T)\n",
    "    end = time.time()\n",
    "    time_GS2G.append(end-start)\n",
    "    \n",
    "    start = time.time()\n",
    "    K = G.T.dot(G).dot(S)\n",
    "    G.dot(S).dot(np.linalg.matrix_power(K, 1)).dot(G.T)\n",
    "    end = time.time()\n",
    "    time_K.append(end-start)\n",
    "\n",
    "    start = time.time()\n",
    "    np.linalg.matrix_power(G.dot(S).dot(G.T), 2)\n",
    "    end = time.time()\n",
    "    time_GSG2.append(end-start)\n",
    "    \n",
    "    start = time.time()\n",
    "    G.dot(S).dot(G.T).dot(G).dot(S).dot(G.T)\n",
    "    end = time.time()\n",
    "    time_GSGGSG.append(end-start)\n",
    "\n",
    "print(\"R²: \\t%.4f\" % np.mean(time_R2))\n",
    "print(\"GS²G: \\t%.4f\" % np.mean(time_GS2G))\n",
    "print(\"GSGGSG: %.4f\" % np.mean(time_GSGGSG))\n",
    "print(\"(GSG)²: %.4f\" % np.mean(time_GSG2))\n",
    "print(\"GSKG: \\t%.4f\" % np.mean(time_K))\n",
    "\n",
    "print(\"Speedup:\")\n",
    "print(\"R²: \\t%.4f\" % (np.mean(time_R2)/np.mean(time_R2)))\n",
    "print(\"GS²G: \\t%.4f\" % (np.mean(time_R2)/np.mean(time_GS2G)))\n",
    "print(\"GSGGSG: %.4f\" % (np.mean(time_R2)/np.mean(time_GSGGSG)))\n",
    "print(\"(GSG)²: %.4f\" % (np.mean(time_R2)/np.mean(time_GSG2)))\n",
    "print(\"GSKG: \\t%.4f\" % (np.mean(time_R2)/np.mean(time_K)))"
   ]
  }
 ],
 "metadata": {
  "kernelspec": {
   "display_name": "Python 3",
   "language": "python",
   "name": "python3"
  },
  "language_info": {
   "codemirror_mode": {
    "name": "ipython",
    "version": 3
   },
   "file_extension": ".py",
   "mimetype": "text/x-python",
   "name": "python",
   "nbconvert_exporter": "python",
   "pygments_lexer": "ipython3",
   "version": "3.6.3"
  },
  "nbTranslate": {
   "displayLangs": [
    "en",
    "sl"
   ],
   "hotkey": "alt-t",
   "langInMainMenu": true,
   "sourceLang": "sl",
   "targetLang": "en",
   "useGoogleTranslate": true
  }
 },
 "nbformat": 4,
 "nbformat_minor": 2
}
